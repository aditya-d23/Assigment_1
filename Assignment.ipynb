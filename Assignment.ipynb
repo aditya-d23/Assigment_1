{
 "cells": [
  {
   "cell_type": "markdown",
   "id": "bf2eb002-bbeb-4a17-8f33-915fcf36eac3",
   "metadata": {},
   "source": [
    "Que 1.-Explain with an example when to use for loop and while loop"
   ]
  },
  {
   "cell_type": "markdown",
   "id": "bae0e00b-9463-4e19-90d2-5b2bc3d123a7",
   "metadata": {},
   "source": [
    "Ans- for loop in python basically use in iteration in list , dictionaries, tuples, and many other data structures which are in iterable form. For example-\n",
    "l1=['Aditya','Ram','shayam','Om','Ved','Prakash']\n",
    "for i in l1:\n",
    "    print(i) #In that secnario we are using for loop in python.\n",
    "    \n",
    "But the while loop is having different scenario while loops have an entry condition which has to be true then it will execute if it is false then the while can't be executed. The enterance condition in while loop acts as a security guard before entering in to the block. The best place to use while loop is while reading a file.\n",
    "\n",
    "while(file!=eof):\n",
    "    print(file)\n",
    "    Here file is the pointer which is pointing to the starting of file and eof is basically the end of file.\n",
    "\n"
   ]
  },
  {
   "cell_type": "markdown",
   "id": "edc1490f-9da4-4088-99a3-be300729180e",
   "metadata": {},
   "source": [
    "ques 2.write a python program to print the sum and product of the first 10 natural numbers using for and while loop"
   ]
  },
  {
   "cell_type": "code",
   "execution_count": 6,
   "id": "a52abeef-5bb6-4271-be98-a22cd653925a",
   "metadata": {},
   "outputs": [
    {
     "name": "stdout",
     "output_type": "stream",
     "text": [
      "sum : 55\n",
      "product:  3628800\n"
     ]
    }
   ],
   "source": [
    "#using for loop\n",
    "sum1=0\n",
    "product1=1\n",
    "y=list(range(1,11))\n",
    "for i in y:\n",
    "    sum1+=i\n",
    "    product1*=i\n",
    "print(\"sum :\",sum1)\n",
    "print('product: ',product1)"
   ]
  },
  {
   "cell_type": "code",
   "execution_count": 20,
   "id": "539e0929-7f6a-4bf3-bef9-ba63c98cb028",
   "metadata": {
    "tags": []
   },
   "outputs": [
    {
     "name": "stdout",
     "output_type": "stream",
     "text": [
      "sum : 55\n",
      "product:  3628800\n"
     ]
    }
   ],
   "source": [
    "#using while loop\n",
    "sum2=0\n",
    "product2=1\n",
    "x=list(range(1,11))\n",
    "y=len(x)\n",
    "i=1\n",
    "while i<=y:\n",
    "    sum2+=i\n",
    "    product2*=i\n",
    "    i+=1\n",
    "print(\"sum :\",sum2)\n",
    "print('product: ',product2)\n"
   ]
  },
  {
   "cell_type": "markdown",
   "id": "90116344-e20f-45db-ab55-ba55647159f9",
   "metadata": {},
   "source": [
    "Ques 3. Create a python program to compute the electricity bill for a household.\n",
    "The Per-unit charges in rupees are as follows: for the first 100 units the user will be charged Rs. 4.5 per unit, for the next 100 units, the user will be charged rs.6 per unit, and for the next 100 units, the user will be charged rs.10 per unit, After 300 units and above the user will be charged rs. 20 per unit. \n",
    "You are required to take the units of electricity consumed in a month from the user as input.\n",
    "Your program must pass this test case: when the unit of electricity consumed by the user in a month is 310, the total electricity bill should be 2250"
   ]
  },
  {
   "cell_type": "code",
   "execution_count": 3,
   "id": "fbc04b1e-843f-4cb5-8334-f54b9cadd4fe",
   "metadata": {},
   "outputs": [
    {
     "name": "stdin",
     "output_type": "stream",
     "text": [
      "Enter Your units of electricity consumed:  310\n"
     ]
    },
    {
     "name": "stdout",
     "output_type": "stream",
     "text": [
      "Your bill is:  2250.0\n"
     ]
    }
   ],
   "source": [
    "units_of_electricity=int(input(\"Enter Your units of electricity consumed: \"))\n",
    "if units_of_electricity<100:\n",
    "    print(\"Your bill is: \",(units_of_electricity*4.5))\n",
    "elif units_of_electricity<200:\n",
    "    print(\"Your bill is: \",((100*4.5)+((units_of_electricity-100)*6)))\n",
    "elif units_of_electricity<300:\n",
    "    print(\"Your bill is: \",(((100*4.5)+(100*6))+(units_of_electricity-200)*10))\n",
    "elif units_of_electricity>300:\n",
    "    print(\"Your bill is: \",((100*4.5)+(100*6)+(100*10)+((units_of_electricity-300)*20))) "
   ]
  },
  {
   "cell_type": "markdown",
   "id": "ccf7c9a1-f569-4d21-bf3b-07b56fe1ceb9",
   "metadata": {},
   "source": [
    "Ques 4. Create a list of numbers from 1 to 100. Use for loop and while loop to calculate the cube of each number and if the cube of that number is divisible by 4 or 5 then append that number in a list and print that list"
   ]
  },
  {
   "cell_type": "code",
   "execution_count": 9,
   "id": "be80963f-062f-4ea2-b0ad-538e44f3fa1f",
   "metadata": {},
   "outputs": [
    {
     "name": "stdout",
     "output_type": "stream",
     "text": [
      "[8, 64, 125, 216, 512, 1000, 1728, 2744, 3375, 4096, 5832, 8000, 10648, 13824, 15625, 17576, 21952, 27000, 32768, 39304, 42875, 46656, 54872, 64000, 74088, 85184, 91125, 97336, 110592, 125000, 140608, 157464, 166375, 175616, 195112, 216000, 238328, 262144, 274625, 287496, 314432, 343000, 373248, 405224, 421875, 438976, 474552, 512000, 551368, 592704, 614125, 636056, 681472, 729000, 778688, 830584, 857375, 884736, 941192, 1000000]\n"
     ]
    }
   ],
   "source": [
    "num_of_range_1_to_100=list(range(1,101))\n",
    "#using for loop \n",
    "cube=[]\n",
    "number_divisible_by_4_or_5=[]\n",
    "for i in num_of_range_1_to_100:\n",
    "    cube.append((i*i*i))\n",
    "for i in cube:\n",
    "    if i%4==0 or i%5==0:\n",
    "        number_divisible_by_4_or_5.append(i)\n",
    "print(number_divisible_by_4_or_5)     "
   ]
  },
  {
   "cell_type": "code",
   "execution_count": 11,
   "id": "da585af7-c3cb-4baf-9672-8542778b1296",
   "metadata": {},
   "outputs": [
    {
     "name": "stdout",
     "output_type": "stream",
     "text": [
      "[8, 64, 125, 216, 512, 1000, 1728, 2744, 3375, 4096, 5832, 8000, 10648, 13824, 15625, 17576, 21952, 27000, 32768, 39304, 42875, 46656, 54872, 64000, 74088, 85184, 91125, 97336, 110592, 125000, 140608, 157464, 166375, 175616, 195112, 216000, 238328, 262144, 274625, 287496, 314432, 343000, 373248, 405224, 421875, 438976, 474552, 512000, 551368, 592704, 614125, 636056, 681472, 729000, 778688, 830584, 857375, 884736, 941192, 1000000]\n"
     ]
    }
   ],
   "source": [
    "#using while loop \n",
    "num_of_range_1_to_100=list(range(1,101))\n",
    "cube=[]\n",
    "number_divisible_by_4_or_5=[]\n",
    "i=0\n",
    "while i<len(num_of_range_1_to_100):\n",
    "    cube.append(num_of_range_1_to_100[i]*num_of_range_1_to_100[i]*num_of_range_1_to_100[i])\n",
    "    i+=1\n",
    "j=0\n",
    "while j<len(cube):\n",
    "    if cube[j]%4==0 or cube[j]%5==0:\n",
    "        number_divisible_by_4_or_5.append(cube[j])\n",
    "    j+=1\n",
    "print(number_divisible_by_4_or_5)\n"
   ]
  },
  {
   "cell_type": "markdown",
   "id": "81dc35c6-2938-4e96-b7d6-fa533051fb3b",
   "metadata": {},
   "source": [
    "Ques 5. Write a program to filter vowels in the below-given string.\n",
    "String=\"I want to become a data scientist\"\n"
   ]
  },
  {
   "cell_type": "code",
   "execution_count": 26,
   "id": "96e8790c-b861-453a-b18b-945856b9ee51",
   "metadata": {},
   "outputs": [
    {
     "name": "stdout",
     "output_type": "stream",
     "text": [
      "['a', 'o', 'e', 'o', 'e', 'a', 'a', 'a', 'i', 'e', 'i']\n"
     ]
    }
   ],
   "source": [
    "vowels=['a','e','i','o','u']\n",
    "given_string='I want to become a data scientist'\n",
    "given_string.lower()\n",
    "empty_list=[]\n",
    "for each in given_string:\n",
    "    for x in vowels:\n",
    "        if each == x:\n",
    "            empty_list.append(each)\n",
    "print(empty_list)"
   ]
  },
  {
   "cell_type": "code",
   "execution_count": null,
   "id": "4832a3a5-2177-4ca9-845f-13b09953c152",
   "metadata": {},
   "outputs": [],
   "source": []
  }
 ],
 "metadata": {
  "kernelspec": {
   "display_name": "Python 3 (ipykernel)",
   "language": "python",
   "name": "python3"
  },
  "language_info": {
   "codemirror_mode": {
    "name": "ipython",
    "version": 3
   },
   "file_extension": ".py",
   "mimetype": "text/x-python",
   "name": "python",
   "nbconvert_exporter": "python",
   "pygments_lexer": "ipython3",
   "version": "3.10.8"
  }
 },
 "nbformat": 4,
 "nbformat_minor": 5
}
